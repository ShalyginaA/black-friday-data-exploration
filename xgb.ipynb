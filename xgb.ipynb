{
 "cells": [
  {
   "cell_type": "code",
   "execution_count": 7,
   "metadata": {},
   "outputs": [],
   "source": [
    "import pandas as pd\n",
    "import numpy as np\n",
    "from sklearn.model_selection import train_test_split\n",
    "from sklearn.preprocessing import LabelEncoder\n",
    "from sklearn.metrics import make_scorer, mean_squared_error\n",
    "import xgboost as xgb"
   ]
  },
  {
   "cell_type": "code",
   "execution_count": 2,
   "metadata": {},
   "outputs": [],
   "source": [
    "import warnings\n",
    "warnings.filterwarnings('ignore')"
   ]
  },
  {
   "cell_type": "code",
   "execution_count": 3,
   "metadata": {},
   "outputs": [],
   "source": [
    "#preprocess data\n",
    "def categorical_to_numerical(train, test):    \n",
    "    train_ = train.copy()\n",
    "    test_ = test.copy()  \n",
    "    encoders_train = {}\n",
    "    encoders_test = {} \n",
    "    for column in train.columns[:-1]:\n",
    "        if train[column].dtype == np.object:\n",
    "            label = LabelEncoder()\n",
    "            encoders_train[column] = label.fit_transform(train[column])\n",
    "            train_[column] = label.transform(train[column])\n",
    "            \n",
    "            label = LabelEncoder()\n",
    "            encoders_test[column] = label.fit_transform(test[column])\n",
    "            test_[column] = label.transform(test[column])\n",
    "    train_.fillna(0,inplace=True)\n",
    "    test_.fillna(0,inplace=True)   \n",
    "    return train_, test_, encoders_train, encoders_test"
   ]
  },
  {
   "cell_type": "code",
   "execution_count": 4,
   "metadata": {},
   "outputs": [],
   "source": [
    "#calculate rmse\n",
    "def RMSE(true_y, preds):\n",
    "    return np.sqrt(mean_squared_error(true_y, preds))\n",
    "rmse_scorer = make_scorer(RMSE, greater_is_better=False) #create own scorer"
   ]
  },
  {
   "cell_type": "code",
   "execution_count": 5,
   "metadata": {},
   "outputs": [],
   "source": [
    "# get file with predictions\n",
    "def get_file(test,predictions, file_name):\n",
    "    sample = pd.read_csv('Sample_Submission_Tm9Lura.csv')\n",
    "    sample['User_ID'] = test.User_ID.values\n",
    "    sample['Product_ID'] = test.Product_ID.values\n",
    "    sample['Purchase'] = predictions\n",
    "    sample.to_csv(file_name, index=False)"
   ]
  },
  {
   "cell_type": "code",
   "execution_count": 6,
   "metadata": {},
   "outputs": [],
   "source": [
    "#read test and train sets\n",
    "train = pd.read_csv('train.csv')\n",
    "test = pd.read_csv('test.csv')\n",
    "#preprocess it\n",
    "train_, test_, encoder_train, encoder_test = categorical_to_numerical(train, test)\n",
    "#get own train and test sets\n",
    "X_train = train_.drop(['Purchase'],axis=1)\n",
    "y_train = train_.Purchase\n",
    "train_X, test_X,train_y, test_y = train_test_split(X_train, y_train,random_state=100, test_size = 0.2)"
   ]
  },
  {
   "cell_type": "code",
   "execution_count": 9,
   "metadata": {},
   "outputs": [],
   "source": [
    "#modelling\n",
    "xgb_train = xgb.DMatrix(train_X, label=train_y)"
   ]
  },
  {
   "cell_type": "code",
   "execution_count": 16,
   "metadata": {},
   "outputs": [],
   "source": [
    "params = {'objective': 'reg:linear', 'booster': 'gbtree','max_depth': 8, 'eta': 0.1, 'nthread': -1,\n",
    "          'subsample': 0.8, 'colsample_bytree': 0.8, 'min_child_weight': 20,'max_delta_step': 0, 'gamma': 0,\n",
    "          'silent': 1}"
   ]
  },
  {
   "cell_type": "code",
   "execution_count": 17,
   "metadata": {},
   "outputs": [],
   "source": [
    "num_trees = 1000"
   ]
  },
  {
   "cell_type": "code",
   "execution_count": 18,
   "metadata": {},
   "outputs": [],
   "source": [
    "seeds = [1122, 2244, 3366, 4488, 5500,6500,7500,9000,10000,15000,20000,25000,35000,40000,45000,50000]\n",
    "preds = np.zeros((len(test_X), len(seeds)))"
   ]
  },
  {
   "cell_type": "code",
   "execution_count": 19,
   "metadata": {},
   "outputs": [
    {
     "name": "stdout",
     "output_type": "stream",
     "text": [
      "CPU times: user 2h 6min 29s, sys: 1.83 s, total: 2h 6min 31s\n",
      "Wall time: 2h 6min 31s\n"
     ]
    }
   ],
   "source": [
    "%%time\n",
    "for i in range(len(seeds)):\n",
    "    params['seed'] = seeds[i]\n",
    "    model = xgb.train(params, xgb_train, num_trees)\n",
    "    dt = xgb.DMatrix(test_X)\n",
    "    preds[:, i] = model.predict(dt)\n",
    "\n",
    "preds = np.mean(preds, axis=1) #get mean of predictions on test data"
   ]
  },
  {
   "cell_type": "code",
   "execution_count": 20,
   "metadata": {},
   "outputs": [
    {
     "data": {
      "text/plain": [
       "2485.9951798447546"
      ]
     },
     "execution_count": 20,
     "metadata": {},
     "output_type": "execute_result"
    }
   ],
   "source": [
    "#score for the own test set\n",
    "RMSE(preds,test_y)"
   ]
  },
  {
   "cell_type": "code",
   "execution_count": 27,
   "metadata": {},
   "outputs": [],
   "source": [
    "preds_test = np.zeros((len(test_), len(seeds)))"
   ]
  },
  {
   "cell_type": "code",
   "execution_count": 24,
   "metadata": {},
   "outputs": [],
   "source": [
    "xgb_train1 = xgb.DMatrix(X_train, label=y_train)"
   ]
  },
  {
   "cell_type": "code",
   "execution_count": 28,
   "metadata": {},
   "outputs": [
    {
     "name": "stdout",
     "output_type": "stream",
     "text": [
      "CPU times: user 2h 31min 40s, sys: 292 ms, total: 2h 31min 40s\n",
      "Wall time: 2h 31min 41s\n"
     ]
    }
   ],
   "source": [
    "%%time\n",
    "for i in range(len(seeds)):\n",
    "    params['seed'] = seeds[i]\n",
    "    model = xgb.train(params, xgb_train1, num_trees)\n",
    "    dt = xgb.DMatrix(test_)\n",
    "    preds_test[:, i] = model.predict(dt)\n",
    "\n",
    "preds_test = np.mean(preds_test, axis=1) #get mean of predictions to submit"
   ]
  },
  {
   "cell_type": "code",
   "execution_count": 30,
   "metadata": {},
   "outputs": [],
   "source": [
    "get_file(test,preds_test,'xgb.csv') #score 2783.4229883237 on public leaderboard"
   ]
  }
 ],
 "metadata": {
  "kernelspec": {
   "display_name": "Python 3",
   "language": "python",
   "name": "python3"
  },
  "language_info": {
   "codemirror_mode": {
    "name": "ipython",
    "version": 3
   },
   "file_extension": ".py",
   "mimetype": "text/x-python",
   "name": "python",
   "nbconvert_exporter": "python",
   "pygments_lexer": "ipython3",
   "version": "3.6.6"
  }
 },
 "nbformat": 4,
 "nbformat_minor": 2
}
