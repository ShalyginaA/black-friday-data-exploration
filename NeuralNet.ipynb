{
 "cells": [
  {
   "cell_type": "code",
   "execution_count": 13,
   "metadata": {},
   "outputs": [],
   "source": [
    "import pandas as pd\n",
    "import numpy as np\n",
    "from sklearn.model_selection import train_test_split\n",
    "from sklearn.preprocessing import LabelEncoder\n",
    "from sklearn.metrics import make_scorer, mean_squared_error\n",
    "from keras.models import Sequential\n",
    "from keras.layers import Dense"
   ]
  },
  {
   "cell_type": "code",
   "execution_count": 2,
   "metadata": {},
   "outputs": [],
   "source": [
    "import warnings\n",
    "warnings.filterwarnings('ignore')"
   ]
  },
  {
   "cell_type": "code",
   "execution_count": 3,
   "metadata": {},
   "outputs": [],
   "source": [
    "def categorical_to_numerical(train, test):    \n",
    "    train_ = train.copy()\n",
    "    test_ = test.copy()  \n",
    "    encoders_train = {}\n",
    "    encoders_test = {} \n",
    "    for column in train.columns[:-1]:\n",
    "        if train[column].dtype == np.object:\n",
    "            label = LabelEncoder()\n",
    "            encoders_train[column] = label.fit_transform(train[column])\n",
    "            train_[column] = label.transform(train[column])\n",
    "            \n",
    "            label = LabelEncoder()\n",
    "            encoders_test[column] = label.fit_transform(test[column])\n",
    "            test_[column] = label.transform(test[column])\n",
    "    train_.fillna(0,inplace=True)\n",
    "    test_.fillna(0,inplace=True)   \n",
    "    return train_, test_, encoders_train, encoders_test"
   ]
  },
  {
   "cell_type": "code",
   "execution_count": 4,
   "metadata": {},
   "outputs": [],
   "source": [
    "def RMSE(true_y, preds):\n",
    "    return np.sqrt(mean_squared_error(true_y, preds))\n",
    "#rmse_scorer = make_scorer(RMSE, greater_is_better=False)"
   ]
  },
  {
   "cell_type": "code",
   "execution_count": 5,
   "metadata": {},
   "outputs": [],
   "source": [
    "def get_file(test,predictions, file_name):\n",
    "    sample = pd.read_csv('Sample_Submission_Tm9Lura.csv')\n",
    "    sample['User_ID'] = test.User_ID.values\n",
    "    sample['Product_ID'] = test.Product_ID.values\n",
    "    sample['Purchase'] = predictions\n",
    "    sample.to_csv(file_name, index=False)"
   ]
  },
  {
   "cell_type": "code",
   "execution_count": 6,
   "metadata": {},
   "outputs": [],
   "source": [
    "train = pd.read_csv('train.csv')\n",
    "test = pd.read_csv('test.csv')\n",
    "train_, test_, encoder_train, encoder_test = categorical_to_numerical(train, test)\n",
    "X_train = train_.drop(['Purchase'],axis=1)\n",
    "y_train = train_.Purchase\n",
    "train_X, test_X,train_y, test_y = train_test_split(X_train, y_train,random_state=100, test_size = 0.2)"
   ]
  },
  {
   "cell_type": "code",
   "execution_count": 8,
   "metadata": {},
   "outputs": [
    {
     "data": {
      "text/plain": [
       "(550068, 12)"
      ]
     },
     "execution_count": 8,
     "metadata": {},
     "output_type": "execute_result"
    }
   ],
   "source": [
    "train.shape"
   ]
  },
  {
   "cell_type": "code",
   "execution_count": 25,
   "metadata": {},
   "outputs": [
    {
     "name": "stdout",
     "output_type": "stream",
     "text": [
      "_________________________________________________________________\n",
      "Layer (type)                 Output Shape              Param #   \n",
      "=================================================================\n",
      "dense_33 (Dense)             (None, 100)               1200      \n",
      "_________________________________________________________________\n",
      "dense_34 (Dense)             (None, 50)                5050      \n",
      "_________________________________________________________________\n",
      "dense_35 (Dense)             (None, 50)                2550      \n",
      "_________________________________________________________________\n",
      "dense_36 (Dense)             (None, 50)                2550      \n",
      "_________________________________________________________________\n",
      "dense_37 (Dense)             (None, 50)                2550      \n",
      "_________________________________________________________________\n",
      "dense_38 (Dense)             (None, 50)                2550      \n",
      "_________________________________________________________________\n",
      "dense_39 (Dense)             (None, 50)                2550      \n",
      "_________________________________________________________________\n",
      "dense_40 (Dense)             (None, 1)                 51        \n",
      "=================================================================\n",
      "Total params: 19,051\n",
      "Trainable params: 19,051\n",
      "Non-trainable params: 0\n",
      "_________________________________________________________________\n"
     ]
    }
   ],
   "source": [
    "NN_model = Sequential()\n",
    "\n",
    "# Input Layer :\n",
    "NN_model.add(Dense(100, kernel_initializer='normal',input_dim = X_train.shape[1], activation='relu'))\n",
    "\n",
    "# Hidden Layers :\n",
    "NN_model.add(Dense(50, kernel_initializer='normal',activation='relu'))\n",
    "NN_model.add(Dense(50, kernel_initializer='normal',activation='relu'))\n",
    "NN_model.add(Dense(50, kernel_initializer='normal',activation='relu'))\n",
    "NN_model.add(Dense(50, kernel_initializer='normal',activation='relu'))\n",
    "NN_model.add(Dense(50, kernel_initializer='normal',activation='relu'))\n",
    "NN_model.add(Dense(50, kernel_initializer='normal',activation='relu'))\n",
    "# Output Layer :\n",
    "NN_model.add(Dense(1, kernel_initializer='normal',activation='linear'))\n",
    "\n",
    "# Compile the network :\n",
    "NN_model.compile(loss='mean_squared_error', optimizer='adam', metrics=['mean_squared_error'])\n",
    "NN_model.summary()"
   ]
  },
  {
   "cell_type": "code",
   "execution_count": 26,
   "metadata": {},
   "outputs": [
    {
     "name": "stdout",
     "output_type": "stream",
     "text": [
      "Train on 440054 samples, validate on 110014 samples\n",
      "Epoch 1/10\n",
      "440054/440054 [==============================] - 103s 234us/step - loss: 25182543.4868 - mean_squared_error: 25182543.4868 - val_loss: 27153259.8293 - val_mean_squared_error: 27153259.8293\n",
      "Epoch 2/10\n",
      "440054/440054 [==============================] - 94s 213us/step - loss: 24820073.6456 - mean_squared_error: 24820073.6456 - val_loss: 26312300.6909 - val_mean_squared_error: 26312300.6909\n",
      "Epoch 3/10\n",
      "440054/440054 [==============================] - 86s 196us/step - loss: 24725804.4186 - mean_squared_error: 24725804.4186 - val_loss: 26186320.8552 - val_mean_squared_error: 26186320.8552\n",
      "Epoch 4/10\n",
      "440054/440054 [==============================] - 115s 261us/step - loss: 24618373.1978 - mean_squared_error: 24618373.1978 - val_loss: 26037641.1650 - val_mean_squared_error: 26037641.1650\n",
      "Epoch 5/10\n",
      "440054/440054 [==============================] - 82s 186us/step - loss: 24495898.9346 - mean_squared_error: 24495898.9346 - val_loss: 26363056.0684 - val_mean_squared_error: 26363056.0684\n",
      "Epoch 6/10\n",
      "440054/440054 [==============================] - 105s 238us/step - loss: 24113556.3887 - mean_squared_error: 24113556.3887 - val_loss: 24193721.9069 - val_mean_squared_error: 24193721.9069\n",
      "Epoch 7/10\n",
      "440054/440054 [==============================] - 112s 254us/step - loss: 22949119.7784 - mean_squared_error: 22949119.7784 - val_loss: 23387790.3833 - val_mean_squared_error: 23387790.3833\n",
      "Epoch 8/10\n",
      "440054/440054 [==============================] - 107s 243us/step - loss: 22690558.6113 - mean_squared_error: 22690558.6113 - val_loss: 23772136.7607 - val_mean_squared_error: 23772136.7607\n",
      "Epoch 9/10\n",
      "440054/440054 [==============================] - 119s 271us/step - loss: 22653450.8578 - mean_squared_error: 22653450.8578 - val_loss: 22867130.6536 - val_mean_squared_error: 22867130.6536\n",
      "Epoch 10/10\n",
      "440054/440054 [==============================] - 87s 198us/step - loss: 22647046.8486 - mean_squared_error: 22647046.8486 - val_loss: 22710939.4673 - val_mean_squared_error: 22710939.4673\n"
     ]
    },
    {
     "data": {
      "text/plain": [
       "<keras.callbacks.History at 0x7f000c8e4cf8>"
      ]
     },
     "execution_count": 26,
     "metadata": {},
     "output_type": "execute_result"
    }
   ],
   "source": [
    "NN_model.fit(X_train, y_train, epochs=10, validation_split = 0.2)"
   ]
  },
  {
   "cell_type": "code",
   "execution_count": 27,
   "metadata": {},
   "outputs": [
    {
     "data": {
      "text/plain": [
       "4717.5280738993815"
      ]
     },
     "execution_count": 27,
     "metadata": {},
     "output_type": "execute_result"
    }
   ],
   "source": [
    "RMSE(NN_model.predict(X_train),y_train)"
   ]
  }
 ],
 "metadata": {
  "kernelspec": {
   "display_name": "Python 3",
   "language": "python",
   "name": "python3"
  },
  "language_info": {
   "codemirror_mode": {
    "name": "ipython",
    "version": 3
   },
   "file_extension": ".py",
   "mimetype": "text/x-python",
   "name": "python",
   "nbconvert_exporter": "python",
   "pygments_lexer": "ipython3",
   "version": "3.6.6"
  }
 },
 "nbformat": 4,
 "nbformat_minor": 2
}
